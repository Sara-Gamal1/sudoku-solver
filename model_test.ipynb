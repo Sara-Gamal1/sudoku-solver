{
 "cells": [
  {
   "cell_type": "code",
   "execution_count": 2,
   "metadata": {},
   "outputs": [],
   "source": [
    "from sklearn.neighbors import KNeighborsClassifier\n",
    "from sklearn.neural_network import MLPClassifier  # MLP is an NN\n",
    "from sklearn import svm\n",
    "import numpy as np\n",
    "import pickle \n",
    "import argparse\n",
    "import cv2\n",
    "import imutils\n",
    "import os\n",
    "import matplotlib.pyplot as plt\n",
    "from sklearn.preprocessing import StandardScaler\n",
    "scaler = StandardScaler()\n",
    "\n",
    "import random\n",
    "from sklearn.model_selection import train_test_split\n",
    "from skimage.feature import hog\n"
   ]
  },
  {
   "cell_type": "code",
   "execution_count": 3,
   "metadata": {},
   "outputs": [],
   "source": [
    "def show_images(images,titles=None):\n",
    "    #This function is used to show image(s) with titles by sending an array of images and an array of associated titles.\n",
    "    # images[0] will be drawn with the title titles[0] if exists\n",
    "    # You aren't required to understand this function, use it as-is.\n",
    "    n_ims = len(images)\n",
    "    if titles is None: titles = ['(%d)' % i for i in range(1,n_ims + 1)]\n",
    "    fig = plt.figure()\n",
    "    n = 1\n",
    "    for image,title in zip(images,titles):\n",
    "        a = fig.add_subplot(1,n_ims,n)\n",
    "        if image.ndim == 2: \n",
    "            plt.gray()\n",
    "        plt.imshow(image)\n",
    "        a.set_title(title)\n",
    "        n += 1\n",
    "    fig.set_size_inches(np.array(fig.get_size_inches()) * n_ims)\n",
    "    plt.show()"
   ]
  },
  {
   "cell_type": "code",
   "execution_count": 4,
   "metadata": {},
   "outputs": [],
   "source": [
    "def sift(img):\n",
    "    k = 1600\n",
    "    \n",
    "    sift = cv2.SIFT_create()\n",
    "    kp, descriptors = sift.detectAndCompute(img, None)\n",
    "    vq=np.zeros(k)\n",
    "   \n",
    "    kmeans = pickle.load(open('kmeans.pkl', 'rb'))\n",
    "    if descriptors is not None:\n",
    "        \n",
    "        for descriptor in descriptors:\n",
    "            idx=kmeans.predict([descriptor])\n",
    "            nkp = np.size(kp)\n",
    "            vq[idx] +=  1/nkp \n",
    "    return vq\n"
   ]
  },
  {
   "cell_type": "code",
   "execution_count": 7,
   "metadata": {},
   "outputs": [
    {
     "name": "stdout",
     "output_type": "stream",
     "text": [
      "78.50467289719626\n"
     ]
    }
   ],
   "source": [
    "\n",
    "\n",
    "correct=0\n",
    "images=[]\n",
    "labels=[]\n",
    "path_to_dataset =  r'test'\n",
    "img_filenames = os.listdir(path_to_dataset)\n",
    "for i, fn in enumerate(img_filenames):\n",
    "      if fn.split('.')[-1] != 'jpg':\n",
    "            continue\n",
    "\n",
    "\n",
    "      label = fn.split('.')[0]\n",
    "     \n",
    "      path = os.path.join(path_to_dataset, fn)\n",
    "      img = cv2.imread(path)\n",
    "      \n",
    "      images.append(img)\n",
    "\n",
    "      \n",
    "      hist=sift(img)\n",
    "\n",
    "\n",
    "      SVM_MODEL = pickle.load(open('sift_classifier.pkl', 'rb'))\n",
    "      array=SVM_MODEL.predict([hist])\n",
    "      labels.append(array)\n",
    "      if(label==array):\n",
    "            correct+=1\n",
    "# show_images(images)\n",
    "# print(np.array(labels))\n",
    "print(correct/len(img_filenames)*100)\n",
    "\n"
   ]
  },
  {
   "cell_type": "code",
   "execution_count": null,
   "metadata": {},
   "outputs": [],
   "source": []
  }
 ],
 "metadata": {
  "kernelspec": {
   "display_name": "Python 3",
   "language": "python",
   "name": "python3"
  },
  "language_info": {
   "codemirror_mode": {
    "name": "ipython",
    "version": 3
   },
   "file_extension": ".py",
   "mimetype": "text/x-python",
   "name": "python",
   "nbconvert_exporter": "python",
   "pygments_lexer": "ipython3",
   "version": "3.11.4"
  }
 },
 "nbformat": 4,
 "nbformat_minor": 2
}
